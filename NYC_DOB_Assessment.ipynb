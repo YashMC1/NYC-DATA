{
 "cells": [
  {
   "cell_type": "code",
   "execution_count": 1,
   "metadata": {},
   "outputs": [
    {
     "data": {
      "text/plain": [
       "'/Users/yash'"
      ]
     },
     "execution_count": 1,
     "metadata": {},
     "output_type": "execute_result"
    }
   ],
   "source": [
    "import os\n",
    "os.getcwd()"
   ]
  },
  {
   "cell_type": "code",
   "execution_count": 2,
   "metadata": {},
   "outputs": [
    {
     "name": "stderr",
     "output_type": "stream",
     "text": [
      "/anaconda3/lib/python3.7/site-packages/IPython/core/interactiveshell.py:3020: DtypeWarning: Columns (1,8,9,10,15,25,31,33,34,35,36,51,52) have mixed types. Specify dtype option on import or set low_memory=False.\n",
      "  interactivity=interactivity, compiler=compiler, result=result)\n"
     ]
    }
   ],
   "source": [
    "import pandas as pd\n",
    "import numpy as np\n",
    "data = pd.read_csv(\"/Users/yash/Downloads/DOB_Permit_Issuance.csv\")"
   ]
  },
  {
   "cell_type": "code",
   "execution_count": 3,
   "metadata": {},
   "outputs": [
    {
     "name": "stdout",
     "output_type": "stream",
     "text": [
      "<class 'pandas.core.frame.DataFrame'>\n",
      "RangeIndex: 3508249 entries, 0 to 3508248\n",
      "Data columns (total 60 columns):\n",
      "BOROUGH                             object\n",
      "Bin #                               object\n",
      "House #                             object\n",
      "Street Name                         object\n",
      "Job #                               int64\n",
      "Job doc. #                          int64\n",
      "Job Type                            object\n",
      "Self_Cert                           object\n",
      "Block                               object\n",
      "Lot                                 object\n",
      "Community Board                     object\n",
      "Zip Code                            float64\n",
      "Bldg Type                           float64\n",
      "Residential                         object\n",
      "Special District 1                  object\n",
      "Special District 2                  object\n",
      "Work Type                           object\n",
      "Permit Status                       object\n",
      "Filing Status                       object\n",
      "Permit Type                         object\n",
      "Permit Sequence #                   int64\n",
      "Permit Subtype                      object\n",
      "Oil Gas                             object\n",
      "Site Fill                           object\n",
      "Filing Date                         object\n",
      "Issuance Date                       object\n",
      "Expiration Date                     object\n",
      "Job Start Date                      object\n",
      "Permittee's First Name              object\n",
      "Permittee's Last Name               object\n",
      "Permittee's Business Name           object\n",
      "Permittee's Phone #                 object\n",
      "Permittee's License Type            object\n",
      "Permittee's License #               object\n",
      "Act as Superintendent               object\n",
      "Permittee's Other Title             object\n",
      "HIC License                         object\n",
      "Site Safety Mgr's First Name        object\n",
      "Site Safety Mgr's Last Name         object\n",
      "Site Safety Mgr Business Name       object\n",
      "Superintendent First & Last Name    object\n",
      "Superintendent Business Name        object\n",
      "Owner's Business Type               object\n",
      "Non-Profit                          object\n",
      "Owner's Business Name               object\n",
      "Owner's First Name                  object\n",
      "Owner's Last Name                   object\n",
      "Owner's House #                     object\n",
      "Owner's House Street Name           object\n",
      "Owner’s House City                  object\n",
      "Owner’s House State                 object\n",
      "Owner’s House Zip Code              object\n",
      "Owner's Phone #                     object\n",
      "DOBRunDate                          object\n",
      "PERMIT_SI_NO                        int64\n",
      "LATITUDE                            float64\n",
      "LONGITUDE                           float64\n",
      "COUNCIL_DISTRICT                    float64\n",
      "CENSUS_TRACT                        float64\n",
      "NTA_NAME                            object\n",
      "dtypes: float64(6), int64(4), object(50)\n",
      "memory usage: 1.6+ GB\n"
     ]
    }
   ],
   "source": [
    "data.info()"
   ]
  },
  {
   "cell_type": "code",
   "execution_count": 4,
   "metadata": {},
   "outputs": [
    {
     "data": {
      "text/plain": [
       "BOROUGH                                   0\n",
       "Bin #                                     0\n",
       "House #                                   4\n",
       "Street Name                               4\n",
       "Job #                                     0\n",
       "Job doc. #                                0\n",
       "Job Type                                  0\n",
       "Self_Cert                           1274022\n",
       "Block                                   499\n",
       "Lot                                     508\n",
       "Community Board                        4757\n",
       "Zip Code                               2221\n",
       "Bldg Type                             54477\n",
       "Residential                         2139591\n",
       "Special District 1                  3121182\n",
       "Special District 2                  3439516\n",
       "Work Type                            609717\n",
       "Permit Status                         10813\n",
       "Filing Status                             0\n",
       "Permit Type                               1\n",
       "Permit Sequence #                         0\n",
       "Permit Subtype                      1393411\n",
       "Oil Gas                             3470104\n",
       "Site Fill                            417333\n",
       "Filing Date                               1\n",
       "Issuance Date                         19972\n",
       "Expiration Date                       11143\n",
       "Job Start Date                           30\n",
       "Permittee's First Name                15732\n",
       "Permittee's Last Name                 15748\n",
       "Permittee's Business Name             48868\n",
       "Permittee's Phone #                   15963\n",
       "Permittee's License Type             269081\n",
       "Permittee's License #                238702\n",
       "Act as Superintendent               1912116\n",
       "Permittee's Other Title             3236862\n",
       "HIC License                         3477843\n",
       "Site Safety Mgr's First Name        3481885\n",
       "Site Safety Mgr's Last Name         3481861\n",
       "Site Safety Mgr Business Name       3490529\n",
       "Superintendent First & Last Name    1814931\n",
       "Superintendent Business Name        1847714\n",
       "Owner's Business Type                164588\n",
       "Non-Profit                           160499\n",
       "Owner's Business Name                715709\n",
       "Owner's First Name                     1858\n",
       "Owner's Last Name                      1553\n",
       "Owner's House #                        1125\n",
       "Owner's House Street Name              1369\n",
       "Owner’s House City                      706\n",
       "Owner’s House State                     679\n",
       "Owner’s House Zip Code                 6175\n",
       "Owner's Phone #                       49040\n",
       "DOBRunDate                                0\n",
       "PERMIT_SI_NO                              0\n",
       "LATITUDE                              12258\n",
       "LONGITUDE                             12258\n",
       "COUNCIL_DISTRICT                      12258\n",
       "CENSUS_TRACT                          12258\n",
       "NTA_NAME                              12258\n",
       "dtype: int64"
      ]
     },
     "execution_count": 4,
     "metadata": {},
     "output_type": "execute_result"
    }
   ],
   "source": [
    "data.isnull().sum(axis=0)"
   ]
  },
  {
   "cell_type": "code",
   "execution_count": 5,
   "metadata": {},
   "outputs": [
    {
     "data": {
      "text/plain": [
       "(3508249, 60)"
      ]
     },
     "execution_count": 5,
     "metadata": {},
     "output_type": "execute_result"
    }
   ],
   "source": [
    "data.shape"
   ]
  },
  {
   "cell_type": "code",
   "execution_count": 6,
   "metadata": {},
   "outputs": [
    {
     "data": {
      "text/html": [
       "<div>\n",
       "<style scoped>\n",
       "    .dataframe tbody tr th:only-of-type {\n",
       "        vertical-align: middle;\n",
       "    }\n",
       "\n",
       "    .dataframe tbody tr th {\n",
       "        vertical-align: top;\n",
       "    }\n",
       "\n",
       "    .dataframe thead th {\n",
       "        text-align: right;\n",
       "    }\n",
       "</style>\n",
       "<table border=\"1\" class=\"dataframe\">\n",
       "  <thead>\n",
       "    <tr style=\"text-align: right;\">\n",
       "      <th></th>\n",
       "      <th>Job #</th>\n",
       "      <th>Job doc. #</th>\n",
       "      <th>Zip Code</th>\n",
       "      <th>Bldg Type</th>\n",
       "      <th>Permit Sequence #</th>\n",
       "      <th>PERMIT_SI_NO</th>\n",
       "      <th>LATITUDE</th>\n",
       "      <th>LONGITUDE</th>\n",
       "      <th>COUNCIL_DISTRICT</th>\n",
       "      <th>CENSUS_TRACT</th>\n",
       "    </tr>\n",
       "  </thead>\n",
       "  <tbody>\n",
       "    <tr>\n",
       "      <th>count</th>\n",
       "      <td>3.508249e+06</td>\n",
       "      <td>3.508249e+06</td>\n",
       "      <td>3.506028e+06</td>\n",
       "      <td>3.453772e+06</td>\n",
       "      <td>3.508249e+06</td>\n",
       "      <td>3.508249e+06</td>\n",
       "      <td>3.495991e+06</td>\n",
       "      <td>3.495991e+06</td>\n",
       "      <td>3.495991e+06</td>\n",
       "      <td>3.495991e+06</td>\n",
       "    </tr>\n",
       "    <tr>\n",
       "      <th>mean</th>\n",
       "      <td>2.521092e+08</td>\n",
       "      <td>1.115809e+00</td>\n",
       "      <td>1.063692e+04</td>\n",
       "      <td>1.758554e+00</td>\n",
       "      <td>1.487494e+00</td>\n",
       "      <td>1.830680e+06</td>\n",
       "      <td>4.072517e+01</td>\n",
       "      <td>-7.394577e+01</td>\n",
       "      <td>2.011127e+01</td>\n",
       "      <td>6.392542e+03</td>\n",
       "    </tr>\n",
       "    <tr>\n",
       "      <th>std</th>\n",
       "      <td>1.351914e+08</td>\n",
       "      <td>4.097722e-01</td>\n",
       "      <td>6.001003e+02</td>\n",
       "      <td>4.279601e-01</td>\n",
       "      <td>1.149177e+00</td>\n",
       "      <td>1.028022e+06</td>\n",
       "      <td>7.299814e-02</td>\n",
       "      <td>8.445411e-02</td>\n",
       "      <td>1.635549e+01</td>\n",
       "      <td>2.125107e+04</td>\n",
       "    </tr>\n",
       "    <tr>\n",
       "      <th>min</th>\n",
       "      <td>1.000300e+08</td>\n",
       "      <td>1.000000e+00</td>\n",
       "      <td>0.000000e+00</td>\n",
       "      <td>1.000000e+00</td>\n",
       "      <td>1.000000e+00</td>\n",
       "      <td>1.000000e+01</td>\n",
       "      <td>4.049863e+01</td>\n",
       "      <td>-7.425489e+01</td>\n",
       "      <td>1.000000e+00</td>\n",
       "      <td>1.000000e+00</td>\n",
       "    </tr>\n",
       "    <tr>\n",
       "      <th>25%</th>\n",
       "      <td>1.204096e+08</td>\n",
       "      <td>1.000000e+00</td>\n",
       "      <td>1.002200e+04</td>\n",
       "      <td>2.000000e+00</td>\n",
       "      <td>1.000000e+00</td>\n",
       "      <td>9.508650e+05</td>\n",
       "      <td>4.068387e+01</td>\n",
       "      <td>-7.398868e+01</td>\n",
       "      <td>4.000000e+00</td>\n",
       "      <td>9.600000e+01</td>\n",
       "    </tr>\n",
       "    <tr>\n",
       "      <th>50%</th>\n",
       "      <td>2.401865e+08</td>\n",
       "      <td>1.000000e+00</td>\n",
       "      <td>1.045700e+04</td>\n",
       "      <td>2.000000e+00</td>\n",
       "      <td>1.000000e+00</td>\n",
       "      <td>1.835409e+06</td>\n",
       "      <td>4.073666e+01</td>\n",
       "      <td>-7.396189e+01</td>\n",
       "      <td>1.800000e+01</td>\n",
       "      <td>2.160000e+02</td>\n",
       "    </tr>\n",
       "    <tr>\n",
       "      <th>75%</th>\n",
       "      <td>4.005124e+08</td>\n",
       "      <td>1.000000e+00</td>\n",
       "      <td>1.122600e+04</td>\n",
       "      <td>2.000000e+00</td>\n",
       "      <td>2.000000e+00</td>\n",
       "      <td>2.718428e+06</td>\n",
       "      <td>4.076596e+01</td>\n",
       "      <td>-7.390473e+01</td>\n",
       "      <td>3.400000e+01</td>\n",
       "      <td>7.230000e+02</td>\n",
       "    </tr>\n",
       "    <tr>\n",
       "      <th>max</th>\n",
       "      <td>5.401627e+08</td>\n",
       "      <td>1.200000e+01</td>\n",
       "      <td>1.169700e+04</td>\n",
       "      <td>2.000000e+00</td>\n",
       "      <td>2.900000e+01</td>\n",
       "      <td>3.609482e+06</td>\n",
       "      <td>4.091371e+01</td>\n",
       "      <td>-7.370038e+01</td>\n",
       "      <td>5.100000e+01</td>\n",
       "      <td>1.579030e+05</td>\n",
       "    </tr>\n",
       "  </tbody>\n",
       "</table>\n",
       "</div>"
      ],
      "text/plain": [
       "              Job #    Job doc. #      Zip Code     Bldg Type  \\\n",
       "count  3.508249e+06  3.508249e+06  3.506028e+06  3.453772e+06   \n",
       "mean   2.521092e+08  1.115809e+00  1.063692e+04  1.758554e+00   \n",
       "std    1.351914e+08  4.097722e-01  6.001003e+02  4.279601e-01   \n",
       "min    1.000300e+08  1.000000e+00  0.000000e+00  1.000000e+00   \n",
       "25%    1.204096e+08  1.000000e+00  1.002200e+04  2.000000e+00   \n",
       "50%    2.401865e+08  1.000000e+00  1.045700e+04  2.000000e+00   \n",
       "75%    4.005124e+08  1.000000e+00  1.122600e+04  2.000000e+00   \n",
       "max    5.401627e+08  1.200000e+01  1.169700e+04  2.000000e+00   \n",
       "\n",
       "       Permit Sequence #  PERMIT_SI_NO      LATITUDE     LONGITUDE  \\\n",
       "count       3.508249e+06  3.508249e+06  3.495991e+06  3.495991e+06   \n",
       "mean        1.487494e+00  1.830680e+06  4.072517e+01 -7.394577e+01   \n",
       "std         1.149177e+00  1.028022e+06  7.299814e-02  8.445411e-02   \n",
       "min         1.000000e+00  1.000000e+01  4.049863e+01 -7.425489e+01   \n",
       "25%         1.000000e+00  9.508650e+05  4.068387e+01 -7.398868e+01   \n",
       "50%         1.000000e+00  1.835409e+06  4.073666e+01 -7.396189e+01   \n",
       "75%         2.000000e+00  2.718428e+06  4.076596e+01 -7.390473e+01   \n",
       "max         2.900000e+01  3.609482e+06  4.091371e+01 -7.370038e+01   \n",
       "\n",
       "       COUNCIL_DISTRICT  CENSUS_TRACT  \n",
       "count      3.495991e+06  3.495991e+06  \n",
       "mean       2.011127e+01  6.392542e+03  \n",
       "std        1.635549e+01  2.125107e+04  \n",
       "min        1.000000e+00  1.000000e+00  \n",
       "25%        4.000000e+00  9.600000e+01  \n",
       "50%        1.800000e+01  2.160000e+02  \n",
       "75%        3.400000e+01  7.230000e+02  \n",
       "max        5.100000e+01  1.579030e+05  "
      ]
     },
     "execution_count": 6,
     "metadata": {},
     "output_type": "execute_result"
    }
   ],
   "source": [
    "data.describe()"
   ]
  },
  {
   "cell_type": "code",
   "execution_count": 7,
   "metadata": {},
   "outputs": [
    {
     "data": {
      "text/html": [
       "<div>\n",
       "<style scoped>\n",
       "    .dataframe tbody tr th:only-of-type {\n",
       "        vertical-align: middle;\n",
       "    }\n",
       "\n",
       "    .dataframe tbody tr th {\n",
       "        vertical-align: top;\n",
       "    }\n",
       "\n",
       "    .dataframe thead th {\n",
       "        text-align: right;\n",
       "    }\n",
       "</style>\n",
       "<table border=\"1\" class=\"dataframe\">\n",
       "  <thead>\n",
       "    <tr style=\"text-align: right;\">\n",
       "      <th></th>\n",
       "      <th>BOROUGH</th>\n",
       "      <th>Bin #</th>\n",
       "      <th>House #</th>\n",
       "      <th>Street Name</th>\n",
       "      <th>Job #</th>\n",
       "      <th>Job doc. #</th>\n",
       "      <th>Job Type</th>\n",
       "      <th>Self_Cert</th>\n",
       "      <th>Block</th>\n",
       "      <th>Lot</th>\n",
       "      <th>...</th>\n",
       "      <th>Owner’s House State</th>\n",
       "      <th>Owner’s House Zip Code</th>\n",
       "      <th>Owner's Phone #</th>\n",
       "      <th>DOBRunDate</th>\n",
       "      <th>PERMIT_SI_NO</th>\n",
       "      <th>LATITUDE</th>\n",
       "      <th>LONGITUDE</th>\n",
       "      <th>COUNCIL_DISTRICT</th>\n",
       "      <th>CENSUS_TRACT</th>\n",
       "      <th>NTA_NAME</th>\n",
       "    </tr>\n",
       "  </thead>\n",
       "  <tbody>\n",
       "    <tr>\n",
       "      <th>0</th>\n",
       "      <td>BRONX</td>\n",
       "      <td>2102476</td>\n",
       "      <td>200</td>\n",
       "      <td>E 135TH STREET</td>\n",
       "      <td>240249842</td>\n",
       "      <td>1</td>\n",
       "      <td>A2</td>\n",
       "      <td>Y</td>\n",
       "      <td>2319</td>\n",
       "      <td>120</td>\n",
       "      <td>...</td>\n",
       "      <td>PA</td>\n",
       "      <td>19355</td>\n",
       "      <td>6.10401e+09</td>\n",
       "      <td>03/27/2019 12:00:00 AM</td>\n",
       "      <td>3608996</td>\n",
       "      <td>40.810699</td>\n",
       "      <td>-73.931313</td>\n",
       "      <td>8.0</td>\n",
       "      <td>51.0</td>\n",
       "      <td>Mott Haven-Port Morris</td>\n",
       "    </tr>\n",
       "    <tr>\n",
       "      <th>1</th>\n",
       "      <td>MANHATTAN</td>\n",
       "      <td>1090833</td>\n",
       "      <td>249</td>\n",
       "      <td>WEST 14 STREET</td>\n",
       "      <td>140818435</td>\n",
       "      <td>1</td>\n",
       "      <td>A3</td>\n",
       "      <td>Y</td>\n",
       "      <td>764</td>\n",
       "      <td>10</td>\n",
       "      <td>...</td>\n",
       "      <td>NY</td>\n",
       "      <td>11101</td>\n",
       "      <td>7.18392e+09</td>\n",
       "      <td>03/27/2019 12:00:00 AM</td>\n",
       "      <td>3609359</td>\n",
       "      <td>40.739151</td>\n",
       "      <td>-74.001075</td>\n",
       "      <td>3.0</td>\n",
       "      <td>81.0</td>\n",
       "      <td>Hudson Yards-Chelsea-Flatiron-Union Square</td>\n",
       "    </tr>\n",
       "    <tr>\n",
       "      <th>2</th>\n",
       "      <td>MANHATTAN</td>\n",
       "      <td>1015903</td>\n",
       "      <td>20</td>\n",
       "      <td>WEST 36TH STREET</td>\n",
       "      <td>123372466</td>\n",
       "      <td>2</td>\n",
       "      <td>A2</td>\n",
       "      <td>Y</td>\n",
       "      <td>837</td>\n",
       "      <td>58</td>\n",
       "      <td>...</td>\n",
       "      <td>NY</td>\n",
       "      <td>10021</td>\n",
       "      <td>2.12249e+09</td>\n",
       "      <td>03/27/2019 12:00:00 AM</td>\n",
       "      <td>3609159</td>\n",
       "      <td>40.750090</td>\n",
       "      <td>-73.984513</td>\n",
       "      <td>4.0</td>\n",
       "      <td>84.0</td>\n",
       "      <td>Midtown-Midtown South</td>\n",
       "    </tr>\n",
       "    <tr>\n",
       "      <th>3</th>\n",
       "      <td>QUEENS</td>\n",
       "      <td>4467709</td>\n",
       "      <td>14-30</td>\n",
       "      <td>BROADWAY</td>\n",
       "      <td>421105618</td>\n",
       "      <td>1</td>\n",
       "      <td>A2</td>\n",
       "      <td>Y</td>\n",
       "      <td>529</td>\n",
       "      <td>2</td>\n",
       "      <td>...</td>\n",
       "      <td>NY</td>\n",
       "      <td>11101</td>\n",
       "      <td>7.18473e+09</td>\n",
       "      <td>03/27/2019 12:00:00 AM</td>\n",
       "      <td>3609358</td>\n",
       "      <td>40.765826</td>\n",
       "      <td>-73.932800</td>\n",
       "      <td>22.0</td>\n",
       "      <td>45.0</td>\n",
       "      <td>Astoria</td>\n",
       "    </tr>\n",
       "    <tr>\n",
       "      <th>4</th>\n",
       "      <td>QUEENS</td>\n",
       "      <td>4048873</td>\n",
       "      <td>42-06</td>\n",
       "      <td>108 STREET</td>\n",
       "      <td>421024689</td>\n",
       "      <td>1</td>\n",
       "      <td>A1</td>\n",
       "      <td>N</td>\n",
       "      <td>1986</td>\n",
       "      <td>37</td>\n",
       "      <td>...</td>\n",
       "      <td>NY</td>\n",
       "      <td>11368</td>\n",
       "      <td>7.18279e+09</td>\n",
       "      <td>03/27/2019 12:00:00 AM</td>\n",
       "      <td>3606599</td>\n",
       "      <td>40.749221</td>\n",
       "      <td>-73.858003</td>\n",
       "      <td>21.0</td>\n",
       "      <td>403.0</td>\n",
       "      <td>North Corona</td>\n",
       "    </tr>\n",
       "  </tbody>\n",
       "</table>\n",
       "<p>5 rows × 60 columns</p>\n",
       "</div>"
      ],
      "text/plain": [
       "     BOROUGH    Bin # House #       Street Name      Job #  Job doc. #  \\\n",
       "0      BRONX  2102476     200    E 135TH STREET  240249842           1   \n",
       "1  MANHATTAN  1090833     249    WEST 14 STREET  140818435           1   \n",
       "2  MANHATTAN  1015903      20  WEST 36TH STREET  123372466           2   \n",
       "3     QUEENS  4467709   14-30          BROADWAY  421105618           1   \n",
       "4     QUEENS  4048873   42-06        108 STREET  421024689           1   \n",
       "\n",
       "  Job Type Self_Cert Block  Lot                     ...                      \\\n",
       "0       A2         Y  2319  120                     ...                       \n",
       "1       A3         Y   764   10                     ...                       \n",
       "2       A2         Y   837   58                     ...                       \n",
       "3       A2         Y   529    2                     ...                       \n",
       "4       A1         N  1986   37                     ...                       \n",
       "\n",
       "  Owner’s House State  Owner’s House Zip Code  Owner's Phone #  \\\n",
       "0                  PA                   19355      6.10401e+09   \n",
       "1                  NY                   11101      7.18392e+09   \n",
       "2                  NY                   10021      2.12249e+09   \n",
       "3                  NY                   11101      7.18473e+09   \n",
       "4                  NY                   11368      7.18279e+09   \n",
       "\n",
       "               DOBRunDate PERMIT_SI_NO   LATITUDE  LONGITUDE COUNCIL_DISTRICT  \\\n",
       "0  03/27/2019 12:00:00 AM      3608996  40.810699 -73.931313              8.0   \n",
       "1  03/27/2019 12:00:00 AM      3609359  40.739151 -74.001075              3.0   \n",
       "2  03/27/2019 12:00:00 AM      3609159  40.750090 -73.984513              4.0   \n",
       "3  03/27/2019 12:00:00 AM      3609358  40.765826 -73.932800             22.0   \n",
       "4  03/27/2019 12:00:00 AM      3606599  40.749221 -73.858003             21.0   \n",
       "\n",
       "  CENSUS_TRACT                                    NTA_NAME  \n",
       "0         51.0                      Mott Haven-Port Morris  \n",
       "1         81.0  Hudson Yards-Chelsea-Flatiron-Union Square  \n",
       "2         84.0                       Midtown-Midtown South  \n",
       "3         45.0                                     Astoria  \n",
       "4        403.0                                North Corona  \n",
       "\n",
       "[5 rows x 60 columns]"
      ]
     },
     "execution_count": 7,
     "metadata": {},
     "output_type": "execute_result"
    }
   ],
   "source": [
    "data.head(5)"
   ]
  },
  {
   "cell_type": "code",
   "execution_count": 8,
   "metadata": {},
   "outputs": [
    {
     "data": {
      "text/plain": [
       "Index(['BOROUGH', 'Bin #', 'House #', 'Street Name', 'Job #', 'Job doc. #',\n",
       "       'Job Type', 'Self_Cert', 'Block', 'Lot', 'Community Board', 'Zip Code',\n",
       "       'Bldg Type', 'Residential', 'Special District 1', 'Special District 2',\n",
       "       'Work Type', 'Permit Status', 'Filing Status', 'Permit Type',\n",
       "       'Permit Sequence #', 'Permit Subtype', 'Oil Gas', 'Site Fill',\n",
       "       'Filing Date', 'Issuance Date', 'Expiration Date', 'Job Start Date',\n",
       "       'Permittee's First Name', 'Permittee's Last Name',\n",
       "       'Permittee's Business Name', 'Permittee's Phone #',\n",
       "       'Permittee's License Type', 'Permittee's License #',\n",
       "       'Act as Superintendent', 'Permittee's Other Title', 'HIC License',\n",
       "       'Site Safety Mgr's First Name', 'Site Safety Mgr's Last Name',\n",
       "       'Site Safety Mgr Business Name', 'Superintendent First & Last Name',\n",
       "       'Superintendent Business Name', 'Owner's Business Type', 'Non-Profit',\n",
       "       'Owner's Business Name', 'Owner's First Name', 'Owner's Last Name',\n",
       "       'Owner's House #', 'Owner's House Street Name', 'Owner’s House City',\n",
       "       'Owner’s House State', 'Owner’s House Zip Code', 'Owner's Phone #',\n",
       "       'DOBRunDate', 'PERMIT_SI_NO', 'LATITUDE', 'LONGITUDE',\n",
       "       'COUNCIL_DISTRICT', 'CENSUS_TRACT', 'NTA_NAME'],\n",
       "      dtype='object')"
      ]
     },
     "execution_count": 8,
     "metadata": {},
     "output_type": "execute_result"
    }
   ],
   "source": [
    "data.columns"
   ]
  },
  {
   "cell_type": "code",
   "execution_count": 9,
   "metadata": {},
   "outputs": [],
   "source": [
    "data = data[data['Permit Status'] == 'ISSUED'] \n"
   ]
  },
  {
   "cell_type": "code",
   "execution_count": 10,
   "metadata": {},
   "outputs": [
    {
     "data": {
      "text/plain": [
       "EW    1524218\n",
       "PL     692076\n",
       "EQ     527128\n",
       "AL     303843\n",
       "NB     219031\n",
       "SG      74117\n",
       "DM      49559\n",
       "FO      43099\n",
       "Name: Permit Type, dtype: int64"
      ]
     },
     "execution_count": 10,
     "metadata": {},
     "output_type": "execute_result"
    }
   ],
   "source": [
    "data['Permit Type'].value_counts().sort_values(ascending=False)"
   ]
  },
  {
   "cell_type": "code",
   "execution_count": 11,
   "metadata": {},
   "outputs": [
    {
     "data": {
      "text/plain": [
       "0                        Plumbing\n",
       "1          Construction Equipment\n",
       "2                  Equipment Work\n",
       "3                  Equipment Work\n",
       "4                      Alteration\n",
       "5                        Plumbing\n",
       "6                  Equipment Work\n",
       "7                        Plumbing\n",
       "8                      Foundation\n",
       "10                 Equipment Work\n",
       "11                 Equipment Work\n",
       "12                 Equipment Work\n",
       "13                       Plumbing\n",
       "14                 Equipment Work\n",
       "15                       Plumbing\n",
       "16                     Foundation\n",
       "17                 Equipment Work\n",
       "18                 Equipment Work\n",
       "19                 Equipment Work\n",
       "20         Construction Equipment\n",
       "21                       Plumbing\n",
       "22                     Alteration\n",
       "23                 Equipment Work\n",
       "24                     Alteration\n",
       "25         Construction Equipment\n",
       "26                       Plumbing\n",
       "27                   New Building\n",
       "28         Construction Equipment\n",
       "29                       Plumbing\n",
       "30                     Alteration\n",
       "                    ...          \n",
       "3488268                Alteration\n",
       "3488269                Demolition\n",
       "3488270    Construction Equipment\n",
       "3488271                Demolition\n",
       "3488272                Alteration\n",
       "3488273    Construction Equipment\n",
       "3488274    Construction Equipment\n",
       "3488275    Construction Equipment\n",
       "3488276            Equipment Work\n",
       "3488570              New Building\n",
       "3489573            Equipment Work\n",
       "3490089              New Building\n",
       "3490294                  Plumbing\n",
       "3490463              New Building\n",
       "3490727                      Sign\n",
       "3490927                Alteration\n",
       "3490932            Equipment Work\n",
       "3491586            Equipment Work\n",
       "3492974            Equipment Work\n",
       "3493607    Construction Equipment\n",
       "3495910            Equipment Work\n",
       "3496117              New Building\n",
       "3497363    Construction Equipment\n",
       "3498355                  Plumbing\n",
       "3498753              New Building\n",
       "3500016                      Sign\n",
       "3500428              New Building\n",
       "3502646    Construction Equipment\n",
       "3503656    Construction Equipment\n",
       "3508245                  Plumbing\n",
       "Name: Permit Type, Length: 3433072, dtype: object"
      ]
     },
     "execution_count": 11,
     "metadata": {},
     "output_type": "execute_result"
    }
   ],
   "source": [
    "data['Permit Type'] = data['Permit Type'].map({'EW': 'Equipment Work', 'PL': 'Plumbing',\n",
    "                                            'EQ': 'Construction Equipment', 'AL': 'Alteration',\n",
    "                                            'NB': 'New Building', 'FO': 'Foundation',\n",
    "                                            'SG': 'Sign', 'DM': 'Demolition'})\n",
    "data['Permit Type'] "
   ]
  },
  {
   "cell_type": "code",
   "execution_count": 12,
   "metadata": {},
   "outputs": [
    {
     "data": {
      "text/plain": [
       "MANHATTAN        1433358\n",
       "BROOKLYN          795669\n",
       "QUEENS            714739\n",
       "BRONX             289377\n",
       "STATEN ISLAND     199929\n",
       "Name: BOROUGH, dtype: int64"
      ]
     },
     "execution_count": 12,
     "metadata": {},
     "output_type": "execute_result"
    }
   ],
   "source": [
    "data['BOROUGH'].value_counts() "
   ]
  },
  {
   "cell_type": "markdown",
   "metadata": {},
   "source": [
    "The output represents the number of permits in different places in New York city"
   ]
  },
  {
   "cell_type": "code",
   "execution_count": 13,
   "metadata": {},
   "outputs": [
    {
     "name": "stdout",
     "output_type": "stream",
     "text": [
      "YES    0.481504\n",
      "Name: Residential, dtype: float64\n",
      "YES    0.260685\n",
      "Name: Residential, dtype: float64\n",
      "YES    0.47492\n",
      "Name: Residential, dtype: float64\n",
      "YES    0.602769\n",
      "Name: Residential, dtype: float64\n",
      "YES    0.420935\n",
      "Name: Residential, dtype: float64\n"
     ]
    }
   ],
   "source": [
    "boroughs = ['BROOKLYN', 'MANHATTAN', 'QUEENS', 'STATEN ISLAND', 'BRONX'] #list of borough names to pass to for loop\n",
    "\n",
    "for i in boroughs:\n",
    "    X= data[data['BOROUGH'] == i]['Residential'].value_counts() / len(data[data['BOROUGH'] == i])\n",
    "    \n",
    "    print(X) "
   ]
  },
  {
   "cell_type": "markdown",
   "metadata": {},
   "source": [
    "Borough represents the different places in New York .The output represents the percentage of Residental area in those different places."
   ]
  },
  {
   "cell_type": "code",
   "execution_count": 14,
   "metadata": {},
   "outputs": [
    {
     "data": {
      "text/plain": [
       "0.0           48\n",
       "4452.0         9\n",
       "10000.0      176\n",
       "10001.0    55204\n",
       "10002.0    34887\n",
       "10003.0    62745\n",
       "10004.0    16988\n",
       "10005.0    16851\n",
       "10006.0     8693\n",
       "10007.0    17475\n",
       "10009.0    26650\n",
       "10010.0    37604\n",
       "10011.0    63947\n",
       "10012.0    43888\n",
       "10013.0    65176\n",
       "10014.0    45580\n",
       "10016.0    55986\n",
       "10017.0    57078\n",
       "10018.0    42880\n",
       "10019.0    73188\n",
       "10020.0     9504\n",
       "10021.0    41984\n",
       "10022.0    88551\n",
       "10023.0    49157\n",
       "10024.0    45245\n",
       "10025.0    40513\n",
       "10026.0    13015\n",
       "10027.0    31443\n",
       "10028.0    35410\n",
       "10029.0    23664\n",
       "           ...  \n",
       "11385.0    23460\n",
       "11411.0     3192\n",
       "11412.0     6646\n",
       "11413.0    11814\n",
       "11414.0     9307\n",
       "11415.0     4804\n",
       "11416.0     5760\n",
       "11417.0     7071\n",
       "11418.0     9386\n",
       "11419.0    11849\n",
       "11420.0    12309\n",
       "11421.0     5849\n",
       "11422.0     7542\n",
       "11423.0     7916\n",
       "11426.0     6099\n",
       "11427.0     5407\n",
       "11428.0     4274\n",
       "11429.0     4752\n",
       "11430.0      444\n",
       "11432.0    21813\n",
       "11433.0    12691\n",
       "11434.0    16730\n",
       "11435.0    14412\n",
       "11436.0     5023\n",
       "11691.0    18556\n",
       "11692.0    12304\n",
       "11693.0     6687\n",
       "11694.0    10086\n",
       "11695.0       15\n",
       "11697.0     7909\n",
       "Name: Zip Code, Length: 230, dtype: int64"
      ]
     },
     "execution_count": 14,
     "metadata": {},
     "output_type": "execute_result"
    }
   ],
   "source": [
    "data['Zip Code'].value_counts().sort_index() "
   ]
  },
  {
   "cell_type": "markdown",
   "metadata": {},
   "source": [
    "The no of permits given for different Zip Codes."
   ]
  },
  {
   "cell_type": "code",
   "execution_count": 15,
   "metadata": {},
   "outputs": [
    {
     "data": {
      "text/plain": [
       "(3433072, 60)"
      ]
     },
     "execution_count": 15,
     "metadata": {},
     "output_type": "execute_result"
    }
   ],
   "source": [
    "data.shape"
   ]
  },
  {
   "cell_type": "code",
   "execution_count": 17,
   "metadata": {},
   "outputs": [],
   "source": [
    "data = data[data['Zip Code'] >= 10000]"
   ]
  },
  {
   "cell_type": "code",
   "execution_count": 18,
   "metadata": {},
   "outputs": [
    {
     "data": {
      "text/plain": [
       "10022.0    88551\n",
       "10019.0    73188\n",
       "10013.0    65176\n",
       "10011.0    63947\n",
       "10003.0    62745\n",
       "Name: Zip Code, dtype: int64"
      ]
     },
     "execution_count": 18,
     "metadata": {},
     "output_type": "execute_result"
    }
   ],
   "source": [
    "data['Zip Code'].value_counts().sort_values(ascending=False).head(5)"
   ]
  },
  {
   "cell_type": "code",
   "execution_count": null,
   "metadata": {},
   "outputs": [],
   "source": []
  }
 ],
 "metadata": {
  "kernelspec": {
   "display_name": "Python 3",
   "language": "python",
   "name": "python3"
  },
  "language_info": {
   "codemirror_mode": {
    "name": "ipython",
    "version": 3
   },
   "file_extension": ".py",
   "mimetype": "text/x-python",
   "name": "python",
   "nbconvert_exporter": "python",
   "pygments_lexer": "ipython3",
   "version": "3.7.1"
  }
 },
 "nbformat": 4,
 "nbformat_minor": 2
}
